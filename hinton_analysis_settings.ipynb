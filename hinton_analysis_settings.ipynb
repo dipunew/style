{
 "cells": [
  {
   "cell_type": "code",
   "execution_count": null,
   "id": "07331c29",
   "metadata": {},
   "outputs": [],
   "source": [
    "import pandas as pd\n",
    "import matplotlib.pyplot as plt\n",
    "import seaborn as sb\n",
    "\n",
    "\n",
    "def set_custom_style():\n",
    "    import matplotlib.pyplot as plt\n",
    "\n",
    "    plt.style.use(\"https://github.com/dipunew/plot-styles/blob/main/plot_style.txt\")\n",
    "\n",
    "\n",
    "from pyfonts import load_google_font\n",
    "from matplotlib import font_manager\n",
    "\n",
    "for font_name in [\"Open Sans\", \"Source Sans Pro\", \"Noto Sans\"]:\n",
    "    font = load_google_font(font_name)\n",
    "    font_manager.fontManager.addfont(font.get_file())\n",
    "\n",
    "import matplotlib.pyplot as plt\n",
    "\n",
    "plt.rcParams[\"font.family\"] = \"sans-serif\"\n",
    "plt.rcParams[\"font.sans-serif\"] = [\n",
    "    \"Open Sans\",\n",
    "    \"Source Sans Pro\",\n",
    "    \"Noto Sans\",\n",
    "    \"DejaVu Sans\",\n",
    "]"
   ]
  }
 ],
 "metadata": {
  "language_info": {
   "name": "python"
  }
 },
 "nbformat": 4,
 "nbformat_minor": 5
}
